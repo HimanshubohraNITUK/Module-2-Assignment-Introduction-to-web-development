{
  "nbformat": 4,
  "nbformat_minor": 0,
  "metadata": {
    "colab": {
      "provenance": []
    },
    "kernelspec": {
      "name": "python3",
      "display_name": "Python 3"
    },
    "language_info": {
      "name": "python"
    }
  },
  "cells": [
    {
      "cell_type": "code",
      "execution_count": null,
      "metadata": {
        "id": "LpxuX5mJYZZq"
      },
      "outputs": [],
      "source": []
    },
    {
      "cell_type": "markdown",
      "source": [
        "Q1. Explain the main components of client-server architecture and their functions.  \n",
        "Ans: Client-server architecture consists of two main components:  \n",
        "1. Client: Requests services from the server, typically through a web browser or application.  \n",
        "2. Server: Processes requests, retrieves data, and sends responses back to the client.  \n",
        "This model enables efficient resource sharing, security, and centralized management.  \n",
        "\n",
        "Q2. Discuss the various career paths available after completing a web development course.  \n",
        "Ans: Web development opens career paths such as:  \n",
        "1. Frontend Developer  \n",
        "2. Backend Developer   \n",
        "3. Full-Stack Developer   \n",
        "4. UI/UX Designer  \n",
        "5. Freelancer/Entrepreneur\n",
        "\n",
        "Q3. Describe the role of a web browser’s developer tools in web development.  \n",
        "Ans: Web browser developer tools help developers inspect and debug code by allowing them to:  \n",
        "1. View and modify HTML, CSS, and JavaScript in real-time.  \n",
        "2. Debug JavaScript using breakpoints and console logs.\n",
        "3. Monitor network requests and performance issues.  \n",
        "4. Test responsiveness for different screen sizes.  \n",
        "\n",
        "Q4. What are the advantages of using a version control system like Git in a development project?  \n",
        "Ans: A version control system like Git provides:  \n",
        "1. Tracking changes – Maintains a history of modifications.  \n",
        "2. Collaboration – Allows multiple developers to work simultaneously.  \n",
        "3. Branching & Merging – Enables feature development without affecting the main codebase.  \n",
        "4. Backup & Recovery – Prevents data loss by storing previous versions.  \n",
        "\n",
        "Q5. Compare and contrast a text editor and an IDE, highlighting their key features and uses.  \n",
        "Ans:  \n",
        "1. Text Editor:\n",
        "A text editor is a lightweight tool designed for editing code or plain text files. Examples include VS Code, Sublime Text, and Notepad++.\n",
        "- Fast and lightweight with minimal resource consumption.\n",
        "- Provides syntax highlighting, auto-completion, and basic debugging extensions.\n",
        "- Customizable with plugins but requires external tools for compiling and running code.\n",
        "- Suitable for small projects, quick edits, and scripting.\n",
        "\n",
        "2. IDE (Integrated Development Environment):\n",
        "An IDE is a feature-rich software that provides a complete set of tools for development. Examples include IntelliJ IDEA, Eclipse, and Visual Studio.\n",
        "\n",
        "- Includes a built-in text editor, debugger, compiler, and project management tools.\n",
        "- Provides advanced code assistance like IntelliSense, error detection, and refactoring tools.\n",
        "- Supports version control (e.g., Git) and integrated terminal.\n",
        "- Best suited for large-scale development projects requiring multiple tools in one place.\n",
        "     \n",
        "\n"
      ],
      "metadata": {
        "id": "elTCdziGbiSZ"
      }
    },
    {
      "cell_type": "markdown",
      "source": [],
      "metadata": {
        "id": "ipwFMSAA16dG"
      }
    }
  ]
}